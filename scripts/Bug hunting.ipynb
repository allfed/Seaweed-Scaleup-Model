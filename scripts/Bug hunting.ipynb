{
 "cells": [
  {
   "cell_type": "markdown",
   "metadata": {},
   "source": [
    "Finding agreement with Vasco"
   ]
  },
  {
   "cell_type": "code",
   "execution_count": 4,
   "metadata": {},
   "outputs": [],
   "source": [
    "# Import the model\n",
    "from src.scaleup_model import run_model\n",
    "from src.preprocessing import prep_data\n",
    "from src.plotter import create_plots"
   ]
  },
  {
   "cell_type": "code",
   "execution_count": 1,
   "metadata": {},
   "outputs": [],
   "source": [
    "# Go up one directory\n",
    "import os\n",
    "os.chdir(\"..\")"
   ]
  },
  {
   "cell_type": "code",
   "execution_count": 2,
   "metadata": {},
   "outputs": [],
   "source": [
    "# Initialize the model\n",
    "optimal_growth_rate = 30  # % per day\n",
    "days_to_run = 3600 - 3 * 30  # 120 month at 30 days per month (and skip the first three months before the nuclear war)\n",
    "global_pop = 7000000000\n",
    "calories_per_person_per_day = 2250\n",
    "harvest_loss = 20  # % of the harvest that is lost\n",
    "food_waste = 13  # https://www.researchsquare.com/article/rs-1446444/v1\n",
    "calories_per_t_seaweed_wet = 288200  # see Efficiency.ipynb\n",
    "food_limit = 0.15  # amount of food that can be replaced by seaweed\n",
    "# https://academic.oup.com/jcem/article/87/12/5499/2823602\n",
    "feed_limit = 0.05  # amount of feed that can be replaced by seaweed\n",
    "biofuel_limit = 0.5  # amount of biofuel that can be replaced by seaweed\n",
    "# percent of the area of the module that can acutally be used for food production.\n",
    "# Rest is needed for things like lanes for harvesting\n",
    "percent_usable_for_growth = 50  # %\n",
    "# Which scenario to run\n",
    "scenarios = [\"150tg\"]\n",
    "location = \"global\"\n",
    "number_of_clusters = 3\n",
    "consumption_aim = 70 # % of the global need is the aim for the building of the farms"
   ]
  },
  {
   "cell_type": "code",
   "execution_count": 5,
   "metadata": {},
   "outputs": [
    {
     "name": "stdout",
     "output_type": "stream",
     "text": [
      "Start preprocessing for scenario 150tg\n"
     ]
    }
   ],
   "source": [
    "# do the preprocessing to get the data in the right format\n",
    "# Go through all nuclear war scenarios\n",
    "for scenario in scenarios:\n",
    "    print(\"Start preprocessing for scenario \" + scenario)\n",
    "    path = \"data\"\n",
    "    prep_data(scenario, location, number_of_clusters)"
   ]
  },
  {
   "cell_type": "code",
   "execution_count": 6,
   "metadata": {},
   "outputs": [
    {
     "name": "stdout",
     "output_type": "stream",
     "text": [
      "Running scenario 150tg\n",
      "Cluster 0 has a mean growth rate (fraction of max growth rate) of 0.11368341430016159\n",
      "stable_harvest_intervall 87.0\n",
      "stable_harvest_for_food 1931.0029876298024\n",
      "productivity_day_km2 22.195436639423015\n",
      "calculating yield for cluster 0\n",
      "Cluster 1 has a mean growth rate (fraction of max growth rate) of 0.0004594581205788031\n",
      "stable_harvest_intervall None\n",
      "stable_harvest_for_food None\n",
      "productivity_day_km2 None\n",
      "Not enough productivity in cluster for production 1, skipping it\n",
      "Cluster 2 has a mean growth rate (fraction of max growth rate) of 0.43795151408829613\n",
      "stable_harvest_intervall 23.0\n",
      "stable_harvest_for_food 1926.66699609971\n",
      "productivity_day_km2 83.76813026520479\n",
      "calculating yield for cluster 2\n",
      "done\n"
     ]
    }
   ],
   "source": [
    "# Run the model\n",
    "run_model(\n",
    "    optimal_growth_rate,\n",
    "    days_to_run,\n",
    "    global_pop,\n",
    "    calories_per_person_per_day,\n",
    "    harvest_loss,\n",
    "    food_waste,\n",
    "    calories_per_t_seaweed_wet,\n",
    "    food_limit,\n",
    "    feed_limit,\n",
    "    biofuel_limit,\n",
    "    percent_usable_for_growth,\n",
    "    scenarios,\n",
    "    location,\n",
    "    number_of_clusters,\n",
    ")"
   ]
  }
 ],
 "metadata": {
  "kernelspec": {
   "display_name": "seaweed-upscaling-model",
   "language": "python",
   "name": "python3"
  },
  "language_info": {
   "codemirror_mode": {
    "name": "ipython",
    "version": 3
   },
   "file_extension": ".py",
   "mimetype": "text/x-python",
   "name": "python",
   "nbconvert_exporter": "python",
   "pygments_lexer": "ipython3",
   "version": "3.9.12"
  },
  "orig_nbformat": 4
 },
 "nbformat": 4,
 "nbformat_minor": 2
}
