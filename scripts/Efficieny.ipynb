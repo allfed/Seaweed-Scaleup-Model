{
 "cells": [
  {
   "cell_type": "markdown",
   "metadata": {},
   "source": [
    "# Calculating the efficiency of how seaweed in our models converts solar energy to food\n",
    "This is a reality check, to determine if the values we are working with end up being in a reasonable range. "
   ]
  },
  {
   "cell_type": "markdown",
   "metadata": {},
   "source": [
    "To assess how much area we need, the model first calculates how productive a given cluster is on average. This provides us with a productivity per day per km². "
   ]
  },
  {
   "cell_type": "code",
   "execution_count": 1,
   "metadata": {},
   "outputs": [
    {
     "name": "stdout",
     "output_type": "stream",
     "text": [
      "Productivity per year per km2 (wet): 8101 tons\n"
     ]
    }
   ],
   "source": [
    "# This is based on the model output in the global.ipynb notebook\n",
    "productivity_ton_day_km2 = 22.195436639423015 # tons/day/km2\n",
    "days_per_year = 365\n",
    "productivity_ton_year_km2_wet = productivity_ton_day_km2 * days_per_year\n",
    "print(\"Productivity per year per km2 (wet): \" + str(int(productivity_ton_year_km2_wet)) + \" tons\")"
   ]
  },
  {
   "cell_type": "markdown",
   "metadata": {},
   "source": [
    "Gracilaria species have a calorie concent of about 262 kcal per 100 g dry weight [source](http://pubs.sciepub.com/jfnr/8/8/7/index.html). They also have a dry weight of around 11 % wet weight [source](https://www.degruyter.com/document/doi/10.1515/botm.1987.30.6.525/html). This lets us calculate the energy density.  "
   ]
  },
  {
   "cell_type": "code",
   "execution_count": 2,
   "metadata": {},
   "outputs": [
    {
     "name": "stdout",
     "output_type": "stream",
     "text": [
      "Productivity per year per km2 (dry): 891 tons\n",
      "Productivity per year per hectar (dry): 8.91 tons\n",
      "Calories per ton (dry): 2620000 kcal\n",
      "Calories per ton (wet): 288200 kcal\n"
     ]
    }
   ],
   "source": [
    "# Calculate the dry yield\n",
    "productivity_ton_year_km2_dry = productivity_ton_year_km2_wet * 0.11\n",
    "# Calculate also in hectar\n",
    "productivity_ton_year_ha_dry = productivity_ton_year_km2_dry / 100\n",
    "# Calculate the amount of energy\n",
    "# Transfer the productivity from tons to grams\n",
    "productivity_grams_year_km2_dry = productivity_ton_year_km2_dry * 1000000\n",
    "# Calculate the energy per gram\n",
    "kcal_dry_gram = 262 / 100\n",
    "# Calculate the energy per year per km2\n",
    "total_kcal_dry = productivity_grams_year_km2_dry * kcal_dry_gram\n",
    "\n",
    "print(\"Productivity per year per km2 (dry): \" + str(int(productivity_ton_year_km2_dry)) + \" tons\")\n",
    "print(\"Productivity per year per hectar (dry): \" + str(round(productivity_ton_year_ha_dry, 2)) + \" tons\")\n",
    "print(\"Calories per ton (dry): \" + str(int(kcal_dry_gram * 1000 * 1000)) + \" kcal\")\n",
    "print(\"Calories per ton (wet): \" + str(int(kcal_dry_gram * 1000 * 1000 * 0.11)) + \" kcal\")\n"
   ]
  },
  {
   "cell_type": "markdown",
   "metadata": {},
   "source": [
    "Next we have to convert those calories per year to watt, so we can compare it with the incoming energy. "
   ]
  },
  {
   "cell_type": "code",
   "execution_count": 3,
   "metadata": {},
   "outputs": [
    {
     "name": "stdout",
     "output_type": "stream",
     "text": [
      "Total watts per year per km2 (wet): 9768822305862\n"
     ]
    }
   ],
   "source": [
    "# Convert it to kcal per second\n",
    "kcal_per_second = total_kcal_dry / (days_per_year * 24 * 60 * 60)\n",
    "# There are 4184 J in 1 kcal\n",
    "joules_per_second = kcal_per_second * 4184\n",
    "# Joules per second and watts are the same\n",
    "# Convert it back to watts per year\n",
    "watts_per_year = joules_per_second * days_per_year * 24 * 60 * 60\n",
    "print(\"Total watts per year per km2 (wet): \" + str(int(watts_per_year)))"
   ]
  },
  {
   "cell_type": "markdown",
   "metadata": {},
   "source": [
    "We also know that Gracilaria has no light limitation until incoming radiation goes below 21.9 W/m². If we assume 12 hours daylight per day, we can calculate how much energy we have incoming every year per km². This is only this part of the ratiation that is usuable for photosynthesis."
   ]
  },
  {
   "cell_type": "code",
   "execution_count": 4,
   "metadata": {},
   "outputs": [
    {
     "name": "stdout",
     "output_type": "stream",
     "text": [
      "Minimum radiation per year per km2: 345319200000000 W\n"
     ]
    }
   ],
   "source": [
    "min_radiation = 21.9 # W/m2\n",
    "seconds_per_hour = 3600\n",
    "sunlight_hours = 12\n",
    "m2_per_km2 = 1000000\n",
    "# Convert to W/m2/hour\n",
    "min_radiation_hour = min_radiation * seconds_per_hour\n",
    "# Convert to W/m2/day\n",
    "min_radiation_day = min_radiation_hour * sunlight_hours\n",
    "# Convert to W/m2/year\n",
    "min_radiation_year = min_radiation_day * days_per_year\n",
    "# Convert to W/km2/year\n",
    "min_radiation_year = min_radiation_year * m2_per_km2\n",
    "\n",
    "print(\"Minimum radiation per year per km2: \" + str(int(min_radiation_year)) + \" W\")"
   ]
  },
  {
   "cell_type": "markdown",
   "metadata": {},
   "source": [
    "No that we have both numbers, we can calculate how effiently the seaweed convert the incoming radiation into calories. "
   ]
  },
  {
   "cell_type": "code",
   "execution_count": 5,
   "metadata": {},
   "outputs": [
    {
     "name": "stdout",
     "output_type": "stream",
     "text": [
      "Efficiency: 2.8289253264408387\n"
     ]
    }
   ],
   "source": [
    "efficiency = watts_per_year / min_radiation_year\n",
    "# Convert to percentage\n",
    "efficiency = efficiency * 100\n",
    "print(\"Efficiency: \" + str(efficiency))"
   ]
  },
  {
   "cell_type": "markdown",
   "metadata": {},
   "source": [
    "An efficiency of 10 % if high, but still in a reasonable range. Especially given this is only in relationship to this part of the radiation that can be used for photosynthesis. "
   ]
  }
 ],
 "metadata": {
  "kernelspec": {
   "display_name": "Python 3 (ipykernel)",
   "language": "python",
   "name": "python3"
  },
  "language_info": {
   "codemirror_mode": {
    "name": "ipython",
    "version": 3
   },
   "file_extension": ".py",
   "mimetype": "text/x-python",
   "name": "python",
   "nbconvert_exporter": "python",
   "pygments_lexer": "ipython3",
   "version": "3.9.12"
  },
  "vscode": {
   "interpreter": {
    "hash": "36a5ea873fb6317ce1ff8123fbc5265e5a54ba26dbe95667ffb0417a1c8a4d4c"
   }
  }
 },
 "nbformat": 4,
 "nbformat_minor": 2
}
