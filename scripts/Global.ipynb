{
 "cells": [
  {
   "attachments": {},
   "cell_type": "markdown",
   "metadata": {},
   "source": [
    "Do a global analysis for seaweed growth"
   ]
  },
  {
   "cell_type": "code",
   "execution_count": 1,
   "metadata": {},
   "outputs": [],
   "source": [
    "# Import the model\n",
    "from src.scaleup_model import run_model\n",
    "from src.preprocessing import prep_data\n",
    "from src.plotter import create_plots"
   ]
  },
  {
   "cell_type": "code",
   "execution_count": 2,
   "metadata": {},
   "outputs": [],
   "source": [
    "# Go up one directory\n",
    "import os\n",
    "os.chdir(\"..\")"
   ]
  },
  {
   "cell_type": "code",
   "execution_count": 3,
   "metadata": {},
   "outputs": [],
   "source": [
    "# Initialize the model\n",
    "optimal_growth_rate = 30  # % per day\n",
    "days_to_run = 3600  # 120 month at 30 days per month\n",
    "global_pop = 7000000000\n",
    "calories_per_person_per_day = 2250\n",
    "harvest_loss = 20  # % of the harvest that is lost\n",
    "food_waste = 13  # https://www.researchsquare.com/article/rs-1446444/v1\n",
    "calories_per_t_seaweed_wet = 288200  # see Efficiency.ipynb\n",
    "food_limit = 0.15  # amount of food that can be replaced by seaweed\n",
    "# https://academic.oup.com/jcem/article/87/12/5499/2823602\n",
    "feed_limit = 0.05  # amount of feed that can be replaced by seaweed\n",
    "biofuel_limit = 0.5  # amount of biofuel that can be replaced by seaweed\n",
    "# percent of the area of the module that can acutally be used for food production.\n",
    "# Rest is needed for things like lanes for harvesting\n",
    "percent_usable_for_growth = 50  # %\n",
    "# Which scenario to run\n",
    "scenarios = [str(i) + \"tg\" for i in [5, 16, 27, 37, 47, 150]] + [\"control\"]\n",
    "location = \"global\"\n",
    "number_of_clusters = 3\n",
    "consumption_aim = 70 # % of the global need is the aim for the building of the farms"
   ]
  },
  {
   "cell_type": "code",
   "execution_count": 4,
   "metadata": {},
   "outputs": [
    {
     "name": "stdout",
     "output_type": "stream",
     "text": [
      "Start preprocessing for scenario 5tg\n",
      "Start preprocessing for scenario 16tg\n",
      "Start preprocessing for scenario 27tg\n",
      "Start preprocessing for scenario 37tg\n",
      "Start preprocessing for scenario 47tg\n",
      "Start preprocessing for scenario 150tg\n",
      "Start preprocessing for scenario control\n"
     ]
    }
   ],
   "source": [
    "# do the preprocessing to get the data in the right format\n",
    "# Go through all nuclear war scenarios\n",
    "for scenario in scenarios:\n",
    "    print(\"Start preprocessing for scenario \" + scenario)\n",
    "    path = \"data\"\n",
    "    prep_data(path + os.sep + location + os.sep + scenario)"
   ]
  },
  {
   "cell_type": "code",
   "execution_count": 5,
   "metadata": {},
   "outputs": [
    {
     "name": "stdout",
     "output_type": "stream",
     "text": [
      "Running scenario 5tg\n",
      "Cluster 0 has a median growth rate of 0.000859299358726045\n",
      "stable_harvest_intervall None\n",
      "stable_harvest_for_food None\n",
      "productivity_day_km2 None\n",
      "Not enough productivity in cluster for production 0, skipping it\n",
      "Cluster 1 has a median growth rate of 0.6675992756602581\n",
      "stable_harvest_intervall 16.0\n",
      "stable_harvest_for_food 2002.4980468987335\n",
      "productivity_day_km2 125.15612793117084\n",
      "calculating yield for cluster 1\n",
      "Cluster 2 has a median growth rate of 0.141850777921047\n",
      "stable_harvest_intervall 70.0\n",
      "stable_harvest_for_food 1934.5002705903746\n",
      "productivity_day_km2 27.635718151291066\n",
      "calculating yield for cluster 2\n",
      "done\n",
      "Running scenario 16tg\n",
      "Cluster 0 has a median growth rate of 0.6488811358104509\n",
      "stable_harvest_intervall 16.0\n",
      "stable_harvest_for_food 1955.401442971939\n",
      "productivity_day_km2 122.2125901857462\n",
      "calculating yield for cluster 0\n",
      "Cluster 1 has a median growth rate of 0.0008297444837265283\n",
      "stable_harvest_intervall None\n",
      "stable_harvest_for_food None\n",
      "productivity_day_km2 None\n",
      "Not enough productivity in cluster for production 1, skipping it\n",
      "Cluster 2 has a median growth rate of 0.10418018885385218\n",
      "stable_harvest_intervall 95.0\n",
      "stable_harvest_for_food 1933.1301728820938\n",
      "productivity_day_km2 20.348738661916776\n",
      "calculating yield for cluster 2\n",
      "done\n",
      "Running scenario 27tg\n",
      "Cluster 0 has a median growth rate of 0.00087677078362455\n",
      "stable_harvest_intervall None\n",
      "stable_harvest_for_food None\n",
      "productivity_day_km2 None\n",
      "Not enough productivity in cluster for production 0, skipping it\n",
      "Cluster 1 has a median growth rate of 0.6384466692639016\n",
      "stable_harvest_intervall 16.0\n",
      "stable_harvest_for_food 1928.8716347807779\n",
      "productivity_day_km2 120.55447717379862\n",
      "calculating yield for cluster 1\n",
      "Cluster 2 has a median growth rate of 0.10113355750295187\n",
      "stable_harvest_intervall 98.0\n",
      "stable_harvest_for_food 1935.782446445674\n",
      "productivity_day_km2 19.75288210658851\n",
      "calculating yield for cluster 2\n",
      "done\n",
      "Running scenario 37tg\n",
      "Cluster 0 has a median growth rate of 0.0009131858172865109\n",
      "stable_harvest_intervall None\n",
      "stable_harvest_for_food None\n",
      "productivity_day_km2 None\n",
      "Not enough productivity in cluster for production 0, skipping it\n",
      "Cluster 1 has a median growth rate of 0.6304088654880426\n",
      "stable_harvest_intervall 17.0\n",
      "stable_harvest_for_food 2012.1550368036417\n",
      "productivity_day_km2 118.36206098844951\n",
      "calculating yield for cluster 1\n",
      "Cluster 2 has a median growth rate of 0.1081416898765129\n",
      "stable_harvest_intervall 91.0\n",
      "stable_harvest_for_food 1923.3268950566908\n",
      "productivity_day_km2 21.13546038523836\n",
      "calculating yield for cluster 2\n",
      "done\n",
      "Running scenario 47tg\n",
      "Cluster 0 has a median growth rate of 0.0009321532350578433\n",
      "stable_harvest_intervall None\n",
      "stable_harvest_for_food None\n",
      "productivity_day_km2 None\n",
      "Not enough productivity in cluster for production 0, skipping it\n",
      "Cluster 1 has a median growth rate of 0.6131046534267353\n",
      "stable_harvest_intervall 17.0\n",
      "stable_harvest_for_food 1965.9041884642247\n",
      "productivity_day_km2 115.64142285083675\n",
      "calculating yield for cluster 1\n",
      "Cluster 2 has a median growth rate of 0.10240307908071902\n",
      "stable_harvest_intervall 96.0\n",
      "stable_harvest_for_food 1922.238714982599\n",
      "productivity_day_km2 20.023319947735406\n",
      "calculating yield for cluster 2\n",
      "done\n",
      "Running scenario 150tg\n",
      "Cluster 0 has a median growth rate of 0.11094759990189758\n",
      "stable_harvest_intervall 89.0\n",
      "stable_harvest_for_food 1928.6082068100839\n",
      "productivity_day_km2 21.66975513269757\n",
      "calculating yield for cluster 0\n",
      "Cluster 1 has a median growth rate of 0.00046660042760377716\n",
      "stable_harvest_intervall None\n",
      "stable_harvest_for_food None\n",
      "productivity_day_km2 None\n",
      "Not enough productivity in cluster for production 1, skipping it\n",
      "Cluster 2 has a median growth rate of 0.44360063001925354\n",
      "stable_harvest_intervall 23.0\n",
      "stable_harvest_for_food 1947.6345901875175\n",
      "productivity_day_km2 84.67976479076162\n",
      "calculating yield for cluster 2\n",
      "done\n",
      "Running scenario control\n",
      "Cluster 0 has a median growth rate of 0.1165755106788896\n",
      "stable_harvest_intervall 85.0\n",
      "stable_harvest_for_food 1933.7689502185106\n",
      "productivity_day_km2 22.750222943747183\n",
      "calculating yield for cluster 0\n",
      "Cluster 1 has a median growth rate of 0.6629961772328724\n",
      "stable_harvest_intervall 16.0\n",
      "stable_harvest_for_food 1990.9748627602348\n",
      "productivity_day_km2 124.43592892251468\n",
      "calculating yield for cluster 1\n",
      "Cluster 2 has a median growth rate of 0.0009336113717581308\n",
      "stable_harvest_intervall None\n",
      "stable_harvest_for_food None\n",
      "productivity_day_km2 None\n",
      "Not enough productivity in cluster for production 2, skipping it\n",
      "done\n"
     ]
    }
   ],
   "source": [
    "# Run the model\n",
    "run_model(\n",
    "    optimal_growth_rate,\n",
    "    days_to_run,\n",
    "    global_pop,\n",
    "    calories_per_person_per_day,\n",
    "    harvest_loss,\n",
    "    food_waste,\n",
    "    calories_per_t_seaweed_wet,\n",
    "    food_limit,\n",
    "    feed_limit,\n",
    "    biofuel_limit,\n",
    "    percent_usable_for_growth,\n",
    "    scenarios,\n",
    "    location,\n",
    "    number_of_clusters,\n",
    ")"
   ]
  },
  {
   "cell_type": "code",
   "execution_count": 6,
   "metadata": {},
   "outputs": [
    {
     "name": "stdout",
     "output_type": "stream",
     "text": [
      "Plotting results for scenario 5tg\n",
      "No results for cluster 0 in scenario 5tg\n",
      "Reading in results for cluster 1 in scenario 5tg\n",
      "Reading in results for cluster 2 in scenario 5tg\n",
      "Plotting results for scenario 16tg\n",
      "Reading in results for cluster 0 in scenario 16tg\n",
      "No results for cluster 1 in scenario 16tg\n",
      "Reading in results for cluster 2 in scenario 16tg\n",
      "Plotting results for scenario 27tg\n",
      "No results for cluster 0 in scenario 27tg\n",
      "Reading in results for cluster 1 in scenario 27tg\n",
      "Reading in results for cluster 2 in scenario 27tg\n",
      "Plotting results for scenario 37tg\n",
      "No results for cluster 0 in scenario 37tg\n",
      "Reading in results for cluster 1 in scenario 37tg\n",
      "Reading in results for cluster 2 in scenario 37tg\n",
      "Plotting results for scenario 47tg\n",
      "No results for cluster 0 in scenario 47tg\n",
      "Reading in results for cluster 1 in scenario 47tg\n",
      "Reading in results for cluster 2 in scenario 47tg\n",
      "Plotting results for scenario 150tg\n",
      "Reading in results for cluster 0 in scenario 150tg\n",
      "No results for cluster 1 in scenario 150tg\n",
      "Reading in results for cluster 2 in scenario 150tg\n",
      "Plotting results for scenario control\n",
      "Reading in results for cluster 0 in scenario control\n",
      "Reading in results for cluster 1 in scenario control\n",
      "No results for cluster 2 in scenario control\n"
     ]
    }
   ],
   "source": [
    "# Create the plots\n",
    "create_plots(\n",
    "    location,\n",
    "    consumption_aim\n",
    ")\n",
    "    "
   ]
  }
 ],
 "metadata": {
  "kernelspec": {
   "display_name": "seaweed-upscaling-model",
   "language": "python",
   "name": "python3"
  },
  "language_info": {
   "codemirror_mode": {
    "name": "ipython",
    "version": 3
   },
   "file_extension": ".py",
   "mimetype": "text/x-python",
   "name": "python",
   "nbconvert_exporter": "python",
   "pygments_lexer": "ipython3",
   "version": "3.9.12"
  },
  "orig_nbformat": 4,
  "vscode": {
   "interpreter": {
    "hash": "36a5ea873fb6317ce1ff8123fbc5265e5a54ba26dbe95667ffb0417a1c8a4d4c"
   }
  }
 },
 "nbformat": 4,
 "nbformat_minor": 2
}
