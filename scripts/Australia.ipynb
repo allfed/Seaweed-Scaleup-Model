{
 "cells": [
  {
   "attachments": {},
   "cell_type": "markdown",
   "metadata": {},
   "source": [
    "Do a global analysis for seaweed growth"
   ]
  },
  {
   "cell_type": "code",
   "execution_count": 1,
   "metadata": {},
   "outputs": [],
   "source": [
    "# Import the model\n",
    "from src.scaleup_model import run_model\n",
    "from src.preprocessing import prep_data\n",
    "from src.plotter import create_plots"
   ]
  },
  {
   "cell_type": "code",
   "execution_count": 2,
   "metadata": {},
   "outputs": [],
   "source": [
    "# Go up one directory\n",
    "import os\n",
    "os.chdir(\"..\")"
   ]
  },
  {
   "cell_type": "code",
   "execution_count": 3,
   "metadata": {},
   "outputs": [
    {
     "name": "stdout",
     "output_type": "stream",
     "text": [
      "We need to produce 27.38812576040402 % of the total calorie demand for Australia to be self-sufficient in seaweed.\n"
     ]
    }
   ],
   "source": [
    "population = 25690000 # people in Australia\n",
    "calories_per_person_per_day = 2250\n",
    "# Calculate how much seaweed we actually need\n",
    "total_seaweed_potential_calories = 5778322808320/365 # domestic use + export\n",
    "daily_caloires = population * calories_per_person_per_day\n",
    "consumption_aim = (total_seaweed_potential_calories / daily_caloires) * 100\n",
    "print(\"We need to produce {} % of the total calorie demand for Australia to be self-sufficient in seaweed.\".format(consumption_aim))"
   ]
  },
  {
   "cell_type": "code",
   "execution_count": 4,
   "metadata": {},
   "outputs": [],
   "source": [
    "# Initialize the model\n",
    "optimal_growth_rate = 30  # % per day\n",
    "days_to_run = 33 * 30  # 2 years 9 months\n",
    "harvest_loss = 20  # % of the harvest that is lost\n",
    "food_waste = 13  # https://www.researchsquare.com/article/rs-1446444/v1\n",
    "calories_per_t_seaweed_wet = 288200  # see Efficiency.ipynb\n",
    "# percent of the area of the module that can acutally be used for food production.\n",
    "# Rest is needed for things like lanes for harvesting\n",
    "percent_usable_for_growth = 30  # %\n",
    "# Which scenario to run\n",
    "scenarios = [\"150tg\"]\n",
    "location = \"AUS\"\n",
    "number_of_clusters = 2\n",
    "food_limit = 0.02\n",
    "feed_limit = 0.25\n",
    "biofuel_limit = 0\n"
   ]
  },
  {
   "cell_type": "code",
   "execution_count": 5,
   "metadata": {},
   "outputs": [
    {
     "name": "stdout",
     "output_type": "stream",
     "text": [
      "Start preprocessing for scenario 150tg\n"
     ]
    }
   ],
   "source": [
    "# do the preprocessing to get the data in the right format\n",
    "# Go through all nuclear war scenarios\n",
    "for scenario in scenarios:\n",
    "    print(\"Start preprocessing for scenario \" + scenario)\n",
    "    prep_data(scenario, location, number_of_clusters)"
   ]
  },
  {
   "cell_type": "code",
   "execution_count": 6,
   "metadata": {},
   "outputs": [
    {
     "name": "stdout",
     "output_type": "stream",
     "text": [
      "Running scenario 150tg\n",
      "Cluster 0 has a median growth rate of 0.032546041029160845\n",
      "stable_harvest_intervall None\n",
      "stable_harvest_for_food None\n",
      "productivity_day_km2 None\n",
      "Not enough productivity in cluster for production 0, skipping it\n",
      "Cluster 1 has a median growth rate of 0.1653134316010854\n",
      "stable_harvest_intervall 60.0\n",
      "stable_harvest_for_food 1930.1986334281137\n",
      "productivity_day_km2 32.169977223801894\n",
      "calculating yield for cluster 1\n",
      "done\n"
     ]
    }
   ],
   "source": [
    "# Run the model\n",
    "run_model(\n",
    "    optimal_growth_rate,\n",
    "    days_to_run,\n",
    "    population,\n",
    "    calories_per_person_per_day,\n",
    "    harvest_loss,\n",
    "    food_waste,\n",
    "    calories_per_t_seaweed_wet,\n",
    "    food_limit,\n",
    "    feed_limit,\n",
    "    biofuel_limit,\n",
    "    percent_usable_for_growth,\n",
    "    scenarios,\n",
    "    location,\n",
    "    number_of_clusters,\n",
    ")"
   ]
  },
  {
   "cell_type": "code",
   "execution_count": 7,
   "metadata": {},
   "outputs": [
    {
     "name": "stdout",
     "output_type": "stream",
     "text": [
      "Plotting results for scenario 150tg\n",
      "No results for cluster 0 in scenario 150tg\n",
      "Reading in results for cluster 1 in scenario 150tg\n"
     ]
    }
   ],
   "source": [
    "# Create the plots\n",
    "create_plots(\n",
    "    location,\n",
    "    scenarios,\n",
    "    consumption_aim,\n",
    "    number_of_clusters,\n",
    "    with_comparison=False\n",
    ")\n",
    "    "
   ]
  }
 ],
 "metadata": {
  "kernelspec": {
   "display_name": "seaweed-upscaling-model",
   "language": "python",
   "name": "python3"
  },
  "language_info": {
   "codemirror_mode": {
    "name": "ipython",
    "version": 3
   },
   "file_extension": ".py",
   "mimetype": "text/x-python",
   "name": "python",
   "nbconvert_exporter": "python",
   "pygments_lexer": "ipython3",
   "version": "3.8.2"
  },
  "orig_nbformat": 4,
  "vscode": {
   "interpreter": {
    "hash": "36a5ea873fb6317ce1ff8123fbc5265e5a54ba26dbe95667ffb0417a1c8a4d4c"
   }
  }
 },
 "nbformat": 4,
 "nbformat_minor": 2
}
