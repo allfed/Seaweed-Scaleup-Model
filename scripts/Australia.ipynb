{
 "cells": [
  {
   "attachments": {},
   "cell_type": "markdown",
   "metadata": {},
   "source": [
    "Do a global analysis for seaweed growth"
   ]
  },
  {
   "cell_type": "code",
   "execution_count": 1,
   "metadata": {},
   "outputs": [],
   "source": [
    "# Import the model\n",
    "from src.scaleup_model import run_model\n",
    "from src.preprocessing import prep_data\n",
    "from src.plotter import create_plots"
   ]
  },
  {
   "cell_type": "code",
   "execution_count": 2,
   "metadata": {},
   "outputs": [],
   "source": [
    "# Go up one directory\n",
    "import os\n",
    "os.chdir(\"..\")"
   ]
  },
  {
   "cell_type": "code",
   "execution_count": 3,
   "metadata": {},
   "outputs": [],
   "source": [
    "# Initialize the model\n",
    "optimal_growth_rate = 30  # % per day\n",
    "days_to_run = 36 * 30  # 3 years\n",
    "population = 25690000 # people in Australia\n",
    "calories_per_person_per_day = 2250\n",
    "harvest_loss = 20  # % of the harvest that is lost\n",
    "food_waste = 13  # https://www.researchsquare.com/article/rs-1446444/v1\n",
    "calories_per_t_seaweed_wet = 288200  # see Efficiency.ipynb\n",
    "food_limit = 0.02  # amount of food that can be replaced by seaweed\n",
    "# https://academic.oup.com/jcem/article/87/12/5499/2823602\n",
    "feed_limit = 0.10  # amount of feed that can be replaced by seaweed\n",
    "biofuel_limit = 0.18  # amount of biofuel that can be replaced by seaweed\n",
    "# percent of the area of the module that can acutally be used for food production.\n",
    "# Rest is needed for things like lanes for harvesting\n",
    "percent_usable_for_growth = 30  # %\n",
    "# Which scenario to run\n",
    "scenarios = [\"150tg\"]\n",
    "location = \"AUS\"\n",
    "number_of_clusters = 2\n",
    "consumption_aim = (food_limit + feed_limit + biofuel_limit) * 100 # % of the global need is the aim for the building of the farms"
   ]
  },
  {
   "cell_type": "code",
   "execution_count": 4,
   "metadata": {},
   "outputs": [
    {
     "name": "stdout",
     "output_type": "stream",
     "text": [
      "Start preprocessing for scenario 150tg\n"
     ]
    }
   ],
   "source": [
    "# do the preprocessing to get the data in the right format\n",
    "# Go through all nuclear war scenarios\n",
    "for scenario in scenarios:\n",
    "    print(\"Start preprocessing for scenario \" + scenario)\n",
    "    prep_data(scenario, location, number_of_clusters)"
   ]
  },
  {
   "cell_type": "code",
   "execution_count": 5,
   "metadata": {},
   "outputs": [
    {
     "name": "stdout",
     "output_type": "stream",
     "text": [
      "Running scenario 150tg\n",
      "Cluster 0 has a median growth rate of 0.02989763696544141\n",
      "stable_harvest_intervall None\n",
      "stable_harvest_for_food None\n",
      "productivity_day_km2 None\n",
      "Not enough productivity in cluster for production 0, skipping it\n",
      "Cluster 1 has a median growth rate of 0.15161899651044503\n",
      "stable_harvest_intervall 65.0\n",
      "stable_harvest_for_food 1921.0579309043858\n",
      "productivity_day_km2 29.554737398529014\n",
      "calculating yield for cluster 1\n",
      "done\n"
     ]
    }
   ],
   "source": [
    "# Run the model\n",
    "run_model(\n",
    "    optimal_growth_rate,\n",
    "    days_to_run,\n",
    "    population,\n",
    "    calories_per_person_per_day,\n",
    "    harvest_loss,\n",
    "    food_waste,\n",
    "    calories_per_t_seaweed_wet,\n",
    "    food_limit,\n",
    "    feed_limit,\n",
    "    biofuel_limit,\n",
    "    percent_usable_for_growth,\n",
    "    scenarios,\n",
    "    location,\n",
    "    number_of_clusters,\n",
    ")"
   ]
  },
  {
   "cell_type": "code",
   "execution_count": 6,
   "metadata": {},
   "outputs": [
    {
     "name": "stdout",
     "output_type": "stream",
     "text": [
      "Plotting results for scenario 150tg\n",
      "No results for cluster 0 in scenario 150tg\n",
      "Reading in results for cluster 1 in scenario 150tg\n"
     ]
    }
   ],
   "source": [
    "# Create the plots\n",
    "create_plots(\n",
    "    location,\n",
    "    scenarios,\n",
    "    consumption_aim,\n",
    "    number_of_clusters,\n",
    "    with_comparison=False\n",
    ")\n",
    "    "
   ]
  }
 ],
 "metadata": {
  "kernelspec": {
   "display_name": "seaweed-upscaling-model",
   "language": "python",
   "name": "python3"
  },
  "language_info": {
   "codemirror_mode": {
    "name": "ipython",
    "version": 3
   },
   "file_extension": ".py",
   "mimetype": "text/x-python",
   "name": "python",
   "nbconvert_exporter": "python",
   "pygments_lexer": "ipython3",
   "version": "3.9.12"
  },
  "orig_nbformat": 4,
  "vscode": {
   "interpreter": {
    "hash": "36a5ea873fb6317ce1ff8123fbc5265e5a54ba26dbe95667ffb0417a1c8a4d4c"
   }
  }
 },
 "nbformat": 4,
 "nbformat_minor": 2
}
