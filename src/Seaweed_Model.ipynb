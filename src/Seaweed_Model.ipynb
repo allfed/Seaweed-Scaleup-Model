{
 "cells": [
  {
   "cell_type": "markdown",
   "metadata": {
    "id": "3Hug0RAwRrwz"
   },
   "source": [
    "# Global Food Demands"
   ]
  },
  {
   "cell_type": "code",
   "execution_count": null,
   "metadata": {
    "colab": {
     "base_uri": "https://localhost:8080/"
    },
    "id": "d1A1VzAjR1fV",
    "outputId": "2d1edd42-58e5-4ecc-a901-7ed3c923b3fe"
   },
   "outputs": [
    {
     "name": "stdout",
     "output_type": "stream",
     "text": [
      "global_food_demand_in_catastrophe [kcal/day]  18893600000000.0\n"
     ]
    }
   ],
   "source": [
    "calorie_demand = 2200 #\t[kcal/human/day]\tLiterature result\tFAO?\n",
    "population = 7600000000\t #[humans]\tFact\t\n",
    "food_waste_today = 39 #\t[%]\tFact\tFAO / DDD paper\n",
    "food_waste_in_catastrophe = 13 # [%]\tALLFED assumption\tDDD paper\n",
    "global_food_demand_in_catastrophe =\t(\n",
    "    calorie_demand * population * (1 + food_waste_in_catastrophe / 100)) # [kcal/day]\tALLFED result\t\n",
    "\n",
    "# Print all new calculations\n",
    "print(\"global_food_demand_in_catastrophe [kcal/day] \", global_food_demand_in_catastrophe)\n"
   ]
  },
  {
   "cell_type": "markdown",
   "metadata": {
    "id": "M4A2oOZISZTb"
   },
   "source": [
    "#Seaweed Need"
   ]
  },
  {
   "cell_type": "code",
   "execution_count": null,
   "metadata": {
    "id": "kcNe8QRhSf4z"
   },
   "outputs": [],
   "source": [
    "calories_per_wet_weight = 400000 # [kcal/T wet]\tAron assumption\tRatheka's analysis\n",
    "production_rate_minimum\t= 6 # [%]\tAron result\tScott's model\n",
    "production_rate_maximum\t= 20 # [%]\tAron result\tScott's model\n",
    "water_content = 80 # [%]\tAron assumption\tRatheka's analysis\n",
    "harvest_loss = 0.15 # Fraction of seaweed lost to mechanical and biological factors"
   ]
  },
  {
   "cell_type": "markdown",
   "metadata": {
    "id": "9F881kXHTUZo"
   },
   "source": [
    "# Seaweed Farm Design"
   ]
  },
  {
   "cell_type": "code",
   "execution_count": null,
   "metadata": {
    "colab": {
     "base_uri": "https://localhost:8080/"
    },
    "id": "rvSJZ1R0TX3d",
    "outputId": "f39cd739-5cc2-4395-d508-9f5495f4d409"
   },
   "outputs": [
    {
     "name": "stdout",
     "output_type": "stream",
     "text": [
      "seedling_line_length 5.197916666666667\n",
      "space_between_seedling_line 0.78125\n"
     ]
    }
   ],
   "source": [
    "length_of_module = 150 # [m]\tLiterature result\tSeaweed Aquaculture for Food Security, Income Generation and Environmental Health in Tropical Developing Countries\n",
    "width_of_module\t= 150 # [m]\tLiterature result\tSeaweed Aquaculture for Food Security, Income Generation and Environmental Health in Tropical Developing Countries\n",
    "longline_per_module = 15 # [ ]\tLiterature result\tSeaweed Aquaculture for Food Security, Income Generation and Environmental Health in Tropical Developing Countries\n",
    "longline_length = 220 # [m]\tAron result\tSeaweed Aquaculture for Food Security, Income Generation and Environmental Health in Tropical Developing Countries\n",
    "space_between_longline\t= 10 # [m]\tAron result\tSeaweed Aquaculture for Food Security, Income Generation and Environmental Health in Tropical Developing Countries\n",
    "longlinwide_diameter = 16 # [mm]\tLiterature result\tSeaweed Aquaculture for Food Security, Income Generation and Environmental Health in Tropical Developing Countries\n",
    "buoys_per_longline = 25 # [ ]\tLiterature result\tSeaweed Aquaculture for Food Security, Income Generation and Environmental Health in Tropical Developing Countries\n",
    "buoys_volume = 17 # [L]\tLiterature result\tSeaweed Aquaculture for Food Security, Income Generation and Environmental Health in Tropical Developing Countries\n",
    "anchors_per_longline = 40 # [kg]\tLiterature result\tSeaweed Aquaculture for Food Security, Income Generation and Environmental Health in Tropical Developing Countries\n",
    "seedling_line_length_per_longline = 998\t# [m]\tLiterature result\tSeaweed Aquaculture for Food Security, Income Generation and Environmental Health in Tropical Developing Countries\n",
    "seedling_line_per_longline\t= 192 #\t[ ]\tLiterature result\tSeaweed Aquaculture for Food Security, Income Generation and Environmental Health in Tropical Developing Countries\n",
    "seedling_line_length = \t(\n",
    "    seedling_line_length_per_longline / seedling_line_per_longline ) #\t[m]\tAron result\tSeaweed Aquaculture for Food Security, Income Generation and Environmental Health in Tropical Developing Countries\n",
    "seedling_line_diameter = 7 # [mm]\tLiterature result\tSeaweed Aquaculture for Food Security, Income Generation and Environmental Health in Tropical Developing Countries\n",
    "space_between_seedling_line = (\n",
    "    length_of_module / seedling_line_per_longline) # [m]\tAron result\tSeaweed Aquaculture for Food Security, Income Generation and Environmental Health in Tropical Developing Countries\n",
    "seedling_line_density = 0.025 # [kg/m]\tAron assumption\thttp://www.greenlinefishinggear.com/ropes-chains-lines/rope/danline-rope-3strand\n",
    "longline_density = 12.2/110 # [kg/m] taken from retail datasheet on 16mm danline rope\tAron assumption\thttp://www.greenlinefishinggear.com/ropes-chains-lines/rope/danline-rope-3strand\n",
    "percent_usable_for_growth = 50 # % percent of the area of the module that can acutally be used for food production. Rest is needed for things like lanes for harvesting\n",
    "\n",
    "# Print all new calculations\n",
    "print(\"seedling_line_length\", seedling_line_length)\n",
    "print(\"space_between_seedling_line\", space_between_seedling_line)"
   ]
  },
  {
   "cell_type": "markdown",
   "metadata": {
    "id": "rE2aVnjHTxAT"
   },
   "source": [
    "# Seaweed Farm Design per km²\t\t"
   ]
  },
  {
   "cell_type": "code",
   "execution_count": null,
   "metadata": {
    "colab": {
     "base_uri": "https://localhost:8080/"
    },
    "id": "U26_J4wWT0Do",
    "outputId": "555fd58d-9e87-42d9-f2fe-75bb466bf989"
   },
   "outputs": [
    {
     "name": "stdout",
     "output_type": "stream",
     "text": [
      "modules_per_area 44.44444444444444\n",
      "longline_per_area 666.6666666666666\n",
      "seedling_line_per_area 128000.0\n",
      "buoys_per_area 16666.666666666664\n",
      "length_longline_per_area 146.66666666666666\n",
      "weight_longline_per_area 16.266666666666666\n",
      "weight_seedling_line_per_area 16.633333333333336\n",
      "weight_rope_total_per_area 32.900000000000006\n"
     ]
    }
   ],
   "source": [
    "modules_per_area = 1000000 / (length_of_module * width_of_module) # [1/km²]\n",
    "longline_per_area = longline_per_module * modules_per_area # [1/km²]\n",
    "seedling_line_per_area\t= modules_per_area * longline_per_module * seedling_line_per_longline #[1/km²]\n",
    "buoys_per_area = modules_per_area * longline_per_module * buoys_per_longline # [1/km²]\n",
    "length_longline_per_area = (longline_per_area * longline_length) / 1000 # [km/km²]\n",
    "length_seedling_line_per_area = (seedling_line_per_area * seedling_line_length)/1000 # [km/km²]\n",
    "weight_longline_per_area = length_longline_per_area * longline_density # [T/km²]\n",
    "weight_seedling_line_per_area = length_seedling_line_per_area * seedling_line_density #[T/km²]\n",
    "weight_rope_total_per_area = weight_longline_per_area + weight_seedling_line_per_area # [T/km²]\n",
    "\n",
    "# Print all new calculations\n",
    "print(\"modules_per_area\", modules_per_area)\n",
    "print(\"longline_per_area\", longline_per_area)\n",
    "print(\"seedling_line_per_area\", seedling_line_per_area)\n",
    "print(\"buoys_per_area\", buoys_per_area)\n",
    "print(\"length_longline_per_area\", length_longline_per_area)\n",
    "print(\"weight_longline_per_area\", weight_longline_per_area)\n",
    "print(\"weight_seedling_line_per_area\", weight_seedling_line_per_area)\n",
    "print(\"weight_rope_total_per_area\", weight_rope_total_per_area)"
   ]
  },
  {
   "cell_type": "markdown",
   "metadata": {
    "id": "xfPANXaDUQ3R"
   },
   "source": [
    "# Labor"
   ]
  },
  {
   "cell_type": "code",
   "execution_count": null,
   "metadata": {
    "id": "AchN869pUSPU"
   },
   "outputs": [],
   "source": [
    "harvest_time_per_longline = 2 # [hr]\tAron result\tSeaweed Aquaculture for Food Security, Income Generation and Environmental Health in Tropical Developing Countries\n",
    "deployment_time_of_seedling_line_per_longline = 4 # [hr]\tAron result\tSeaweed Aquaculture for Food Security, Income Generation and Environmental Health in Tropical Developing Countries\n",
    "deployment_time_of_longline = 2 # [hr]\tAron assumption\t\n",
    "preparing_seedling_line_for_1_longline\t= 192*5*30/3600 # [hr]\tAron assumption\t\n",
    "price_per_hour_of_labour = 1 # [$/hr]\tALLFED assumption\t"
   ]
  },
  {
   "cell_type": "markdown",
   "metadata": {
    "id": "Zswh1r9EUYPD"
   },
   "source": [
    "# Synthethic Fiber Production"
   ]
  },
  {
   "cell_type": "code",
   "execution_count": null,
   "metadata": {
    "id": "oBIogUPBUat_"
   },
   "outputs": [],
   "source": [
    "synthethic_fiber_market_volume = 1367000 # [T/yr]\tFact\thttps://www.statista.com/statistics/960574/south-korea-chemical-fibers-production-volume/\n",
    "synthethic_fiber_market_value = 4950000000 # [$/yr]\tFact\thttps://www.statista.com/statistics/886697/south-korea-chemical-fibers-for-clothing-production-value/\n",
    "chemical_fiber_production_global = 73500000 # [T/yr]\tFact\thttps://www.statista.com/statistics/271651/global-production-of-the-chemical-fiber-industry/\n",
    "synthethic_fiber_production_global_useful = 66600000 # [T/yr]\tAron assumption\t?\n",
    "synthethic_fiber_production_global_day = synthethic_fiber_production_global_useful / 365 # [T/day]\tAron result\t"
   ]
  },
  {
   "cell_type": "markdown",
   "metadata": {
    "id": "ljvrng8AUebo"
   },
   "source": [
    "# Rope"
   ]
  },
  {
   "cell_type": "code",
   "execution_count": null,
   "metadata": {
    "colab": {
     "base_uri": "https://localhost:8080/"
    },
    "id": "ImVldBPxUfhN",
    "outputId": "8d72404c-f32e-48f6-b13f-03a98004b679"
   },
   "outputs": [
    {
     "name": "stdout",
     "output_type": "stream",
     "text": [
      "upscale_needed_to_twist_all_synthethic_fiber 297.9865771812081\n"
     ]
    }
   ],
   "source": [
    "global_storage = 0 # do we have values for this?\n",
    "production_year = 223500 # [T/yr]\tLiterature result\thttps://market.biz/report/global-synthetic-rope-market-gir/24174/#details\n",
    "production_day = production_year/365 # [T/day]\tAron result\t\n",
    "upscale_needed_to_twist_all_synthethic_fiber = synthethic_fiber_production_global_day / production_day\t#\t[ ]\tAron result\t\n",
    "\n",
    "# Print all new calculations\n",
    "print(\"upscale_needed_to_twist_all_synthethic_fiber\", upscale_needed_to_twist_all_synthethic_fiber)"
   ]
  },
  {
   "cell_type": "markdown",
   "metadata": {
    "id": "PVKm3f19UmZa"
   },
   "source": [
    "#Scaling"
   ]
  },
  {
   "cell_type": "code",
   "execution_count": null,
   "metadata": {
    "colab": {
     "base_uri": "https://localhost:8080/"
    },
    "id": "TkKiqr8rUngy",
    "outputId": "d4ce6ee1-bb3d-424b-cbdc-9abc572ec4e8"
   },
   "outputs": [
    {
     "name": "stdout",
     "output_type": "stream",
     "text": [
      "new_module_area_per_day 5546.071532664362\n"
     ]
    }
   ],
   "source": [
    "new_module_area_per_day = \tsynthethic_fiber_production_global_day / weight_rope_total_per_area # [km²/day]\tAron result\n",
    "\n",
    "# Print all new calculations\n",
    "print(\"new_module_area_per_day\",new_module_area_per_day)"
   ]
  },
  {
   "cell_type": "markdown",
   "metadata": {
    "id": "cI5o2V2XUvQz"
   },
   "source": [
    "# Rope Machinery"
   ]
  },
  {
   "cell_type": "code",
   "execution_count": null,
   "metadata": {
    "colab": {
     "base_uri": "https://localhost:8080/"
    },
    "id": "jhl-rWwIUxlt",
    "outputId": "3902ccac-41ed-403e-afd1-b1dd24a66a7a"
   },
   "outputs": [
    {
     "name": "stdout",
     "output_type": "stream",
     "text": [
      "production_rate_per_longline_machine 6.3801\n",
      "production_rate_per_seedling_line_machine 0.18104999999999996\n",
      "longline_machines_needed 14140.23243073624\n",
      "seedling_line_machines_needed 509525.8574610177\n",
      "total_cost_longline_machines 141402324.3073624\n",
      "total_cost_seedling_line_machines 5095258574.610177\n",
      "total_cost_rope_machinery 5236660898.91754\n"
     ]
    }
   ],
   "source": [
    "runtime\t= 85 # [%]\tAron assumption\t\n",
    "rpm_longline_machine = 400 # [rpm]\tAron assumption\t\n",
    "production_rate_per_longline_machine = 2502/1000*(24/8)*runtime/100\t# [T/day]\tAron result\thttps://www.robco-eng.com/wp-content/uploads/2018/04/M66-70-rope-making-2018.pdf\n",
    "cost_per_longline_machine = 10000 #\t[$]\tAron assumption\thttps://www.alibaba.com/product-detail/New-type-3-strands-pp-rope_62128507203.html?spm=a2700.details.maylikehoz.2.57403be0GzXvYY\n",
    "rpm_seedling_line_machine = 1200 #[rpm]\tAron assumption\thttps://www.robco-eng.com/wp-content/uploads/2018/10/MT44-20-rope-making-2018.pdf\n",
    "production_rate_per_seedling_line_machine = 71/1000*(24/8)*runtime/100 # [T/day]\tAron result\thttps://www.robco-eng.com/wp-content/uploads/2018/10/MT44-20-rope-making-2018.pdf\n",
    "cost_per_seedling_line_machine = 10000 # [$]\tAron assumption\thttps://www.alibaba.com/product-detail/New-type-3-strands-pp-rope_62128507203.html?spm=a2700.details.maylikehoz.2.57403be0GzXvYY\n",
    "longline_machines_needed = new_module_area_per_day * (weight_longline_per_area/production_rate_per_longline_machine) # [ ] Aron result\t\n",
    "seedling_line_machines_needed = new_module_area_per_day * weight_seedling_line_per_area/production_rate_per_seedling_line_machine # [ ]\tAron result\n",
    "increased_cost_due_to_rapid_tooling = 0 #[%]\t\n",
    "total_cost_longline_machines = cost_per_longline_machine * longline_machines_needed * (1+(increased_cost_due_to_rapid_tooling/100))\t# [$]\tAron result\t\n",
    "total_cost_seedling_line_machines = cost_per_seedling_line_machine * seedling_line_machines_needed * (1+(increased_cost_due_to_rapid_tooling/100)) # [$]\tAron result\t\n",
    "total_cost_rope_machinery = total_cost_longline_machines + total_cost_seedling_line_machines # [$]\tAron result\t\n",
    "\n",
    "# Print all new calculations\n",
    "print(\"production_rate_per_longline_machine\", production_rate_per_longline_machine)\n",
    "print(\"production_rate_per_seedling_line_machine\",production_rate_per_seedling_line_machine)\n",
    "print(\"longline_machines_needed\", longline_machines_needed)\n",
    "print(\"seedling_line_machines_needed\", seedling_line_machines_needed)\n",
    "print(\"total_cost_longline_machines\", total_cost_longline_machines)\n",
    "print(\"total_cost_seedling_line_machines\", total_cost_seedling_line_machines)\n",
    "print(\"total_cost_rope_machinery\" , total_cost_rope_machinery)"
   ]
  },
  {
   "cell_type": "markdown",
   "metadata": {
    "id": "itJVklj4VPvZ"
   },
   "source": []
  },
  {
   "cell_type": "markdown",
   "metadata": {
    "id": "p0uVjD98VSjc"
   },
   "source": [
    "# Variables for Growth and Harvesting"
   ]
  },
  {
   "cell_type": "code",
   "execution_count": null,
   "metadata": {
    "id": "OpiSeIHjVWFq"
   },
   "outputs": [],
   "source": [
    "initial_seaweed = 1000 # t\n",
    "initial_area_built = 1000 # km2 that are already prepared for seaweed production\n",
    "initial_area_used = 1000 #km2 that are already used for seaweed production\n",
    "min_density = 400 # minmal seaweed density t/km2\n",
    "max_density = 4000 # t/km2\n",
    "max_area = 1000000 # maximal area that is to be used for seaweed production km2\n",
    "initial_lag = 0 # days until production starts\n",
    "additional_saturation_time = 1.10 # To accomodate for lost plants we assume 10 percent more time spent at harvest for resaturation\n",
    "# also the plants have to be renewed at least every three years. "
   ]
  },
  {
   "cell_type": "markdown",
   "metadata": {
    "id": "jeef5DKtVaSD"
   },
   "source": [
    "# Seaweed Growth and Harvesting Model"
   ]
  },
  {
   "cell_type": "code",
   "execution_count": null,
   "metadata": {
    "id": "ymMC3oakVc4e"
   },
   "outputs": [],
   "source": [
    "import pandas as pd\n",
    "import numpy as np\n",
    "import statistics\n",
    "\n",
    "def seaweed_growth(harvest_loss, initial_seaweed, initial_area_built, \n",
    "                   initial_area_used, new_module_area_per_day,\n",
    "                   min_density, max_density, max_area, growth_rate, initial_lag,\n",
    "                   percent_usable_for_growth, days_to_run):\n",
    "    \"\"\"\n",
    "    Calculates the seaweed growth and returns a dataframe of all important \n",
    "    growth numbers\n",
    "    \"\"\"\n",
    "    # Initialize\n",
    "    current_area_built = initial_area_built \n",
    "    current_area_used = initial_area_used\n",
    "    current_seaweed = initial_seaweed\n",
    "    # We can only use a fraction of the module area to grow seaweed\n",
    "    growth_area_per_day = new_module_area_per_day * (percent_usable_for_growth/100)\n",
    "    cumulative_harvest_for_food = 0 \n",
    "    current_seaweed_need = 0\n",
    "    harvest_intervall = 0 \n",
    "    # collect all the harvest_intervall values to find the most common at the end\n",
    "    harvest_intervall_all = []\n",
    "    df = pd.DataFrame(index=range(days_to_run))\n",
    "    for current_day in (range(days_to_run)):\n",
    "        # Skip days that are needed to coordinate production\n",
    "        if current_day > initial_lag:\n",
    "            # Build more seaweed farms if maximum is not reached\n",
    "            if current_area_built < max_area:\n",
    "                df.loc[current_day, \"new_module_area_per_day\"] = new_module_area_per_day\n",
    "                current_area_built += growth_area_per_day\n",
    "                if current_area_built > max_area:\n",
    "                    current_area_built = max_area\n",
    "            else:\n",
    "                df.loc[current_day, \"new_module_area_per_day\"] = 0\n",
    "        else:\n",
    "            df.loc[current_day, \"new_module_area_per_day\"] = 0\n",
    "        # Let the seaweed grow\n",
    "        current_seaweed = current_seaweed * growth_rate\n",
    "        # Calculate the seaweed density, so we know when to harvest\n",
    "        current_density = current_seaweed/current_area_used\n",
    "         # Check if we have reached harvest density\n",
    "        if current_density >= max_density:\n",
    "            print(\"harvesting at day \",current_day)\n",
    "            print(\"days since last harvest: \", harvest_intervall)\n",
    "            df.loc[current_day, \"harvest_intervall\"] = harvest_intervall\n",
    "            harvest_intervall_all.append(harvest_intervall)\n",
    "            harvest_intervall = 0\n",
    "            # calculate the amount of seaweed we have to leave in the field\n",
    "            seaweed_remaining_to_grow = current_area_used * min_density\n",
    "            df.loc[current_day, \"seaweed_remaining_to_grow\"] = seaweed_remaining_to_grow\n",
    "            # calulate the amount harvested\n",
    "            harvest_wet = current_seaweed - seaweed_remaining_to_grow\n",
    "            df.loc[current_day, \"harvest_wet\"] = harvest_wet\n",
    "            print(\"harvest_wet\", harvest_wet)\n",
    "            # calculate harvest loss\n",
    "            harvest_wet_with_loss = harvest_wet * (1-harvest_loss)\n",
    "            df.loc[current_day, \"harvest_wet_with_loss\"] = harvest_wet_with_loss\n",
    "            # calculate how much seaweed we would need to stock all aready built area\n",
    "            current_seaweed_need = (current_area_built-current_area_used) * min_density\n",
    "            \n",
    "            # check if we can stock all the area built\n",
    "            if current_seaweed_need > harvest_wet_with_loss:\n",
    "                new_area_used = harvest_wet_with_loss / min_density \n",
    "                current_area_used += new_area_used\n",
    "                current_seaweed = seaweed_remaining_to_grow + harvest_wet_with_loss\n",
    "            else:\n",
    "                harvest_for_food = harvest_wet_with_loss - current_seaweed_need\n",
    "                df.loc[current_day, \"harvest_for_food\"] = harvest_for_food\n",
    "                cumulative_harvest_for_food += harvest_for_food\n",
    "                new_area_used = current_seaweed_need / min_density \n",
    "                # calculate the new amount of current seaweed with the\n",
    "                # newly stocked area\n",
    "                current_area_used += new_area_used\n",
    "                current_seaweed = current_area_used * min_density \n",
    "        \n",
    "\n",
    "            df.loc[current_day, \"new_area_used\"] = new_area_used\n",
    "        # Increment the harvest counter\n",
    "        harvest_intervall += 1\n",
    "        df.loc[current_day, \"current_seaweed_need\"] = current_seaweed_need\n",
    "        df.loc[current_day, \"current_area_built\"] = current_area_built\n",
    "        df.loc[current_day, \"current_area_used\"] = current_area_used\n",
    "        df.loc[current_day, \"current_seaweed\"] = current_seaweed\n",
    "        df.loc[current_day, \"current_density\"] = current_density\n",
    "        df.loc[current_day, \"cumulative_harvest_for_food\"] = cumulative_harvest_for_food\n",
    "    return df"
   ]
  },
  {
   "cell_type": "markdown",
   "metadata": {
    "id": "X_iu93WP3pco"
   },
   "source": [
    "# Run model for one km² to determine how much area we need in total for a given growth rate\n",
    "\n",
    "\n"
   ]
  },
  {
   "cell_type": "code",
   "execution_count": null,
   "metadata": {
    "id": "7k8IAL5t3wuy"
   },
   "outputs": [],
   "source": [
    "def determine_productivity(growth_rate, harvest_loss, min_density, max_density, \n",
    "                           percent_usable_for_growth, days_to_run):\n",
    "  \"\"\"\n",
    "  # Let the model run for one km² to determine the productivity per area and day and the harvest intervall\n",
    "  \"\"\"\n",
    "  df = seaweed_growth(harvest_loss=harvest_loss, initial_seaweed=1, initial_area_built=1, \n",
    "                  initial_area_used=1, new_module_area_per_day=0,\n",
    "                  min_density=min_density, max_density=max_density, max_area=1, growth_rate=growth_rate, initial_lag=0, \n",
    "                  percent_usable_for_growth=percent_usable_for_growth, days_to_run=days_to_run)\n",
    "  # Get the stabilized values\n",
    "  stable_harvest_intervall = df.loc[df[\"harvest_intervall\"].last_valid_index(),\"harvest_intervall\"]\n",
    "  stable_harvest_for_food = df.loc[df[\"harvest_for_food\"].last_valid_index(),\"harvest_for_food\"]\n",
    "\n",
    "  print(\"stable_harvest_intervall\",stable_harvest_intervall)\n",
    "  print(\"stable_harvest_for_food\",stable_harvest_for_food)\n",
    "  # Calculate productivity per km² per day\n",
    "  productivity_day_km2 = stable_harvest_for_food/stable_harvest_intervall\n",
    "  print(\"productivity_day_km2\",productivity_day_km2)\n",
    "  return productivity_day_km2\n",
    "\n",
    "\n"
   ]
  },
  {
   "cell_type": "markdown",
   "metadata": {
    "id": "xmFabcKVVfmH"
   },
   "source": [
    "# Run the model for a set of growth rates"
   ]
  },
  {
   "cell_type": "code",
   "execution_count": null,
   "metadata": {
    "colab": {
     "base_uri": "https://localhost:8080/"
    },
    "id": "UmDwwOnNVhKT",
    "outputId": "7040b677-f9ee-4cc5-d4c4-b5b158fa7a4c"
   },
   "outputs": [
    {
     "name": "stdout",
     "output_type": "stream",
     "text": [
      "\n",
      "Run model for 1 km² with growth rate :5 %\n",
      "harvesting at day  169\n",
      "days since last harvest:  169\n",
      "harvest_wet 3601.113229686988\n",
      "harvesting at day  217\n",
      "days since last harvest:  48\n",
      "harvest_wet 3760.507858776853\n",
      "harvesting at day  265\n",
      "days since last harvest:  48\n",
      "harvest_wet 3760.507858776853\n",
      "harvesting at day  313\n",
      "days since last harvest:  48\n",
      "harvest_wet 3760.507858776853\n",
      "harvesting at day  361\n",
      "days since last harvest:  48\n",
      "harvest_wet 3760.507858776853\n",
      "stable_harvest_intervall 48.0\n",
      "stable_harvest_for_food 3196.431679960325\n",
      "productivity_day_km2 66.5923266658401\n",
      "max_area 1134881.5063818372\n",
      "\n",
      "Run full model with growth rate :5 %\n",
      "harvesting at day  169\n",
      "days since last harvest:  169\n",
      "harvest_wet 3601113.2296869885\n",
      "harvesting at day  217\n",
      "days since last harvest:  48\n",
      "harvest_wet 32537288.885016173\n",
      "harvesting at day  265\n",
      "days since last harvest:  48\n",
      "harvest_wet 292545341.31523275\n",
      "harvesting at day  313\n",
      "days since last harvest:  48\n",
      "harvest_wet 2630298333.3272724\n",
      "harvesting at day  361\n",
      "days since last harvest:  48\n",
      "harvest_wet 3267731641.742709\n",
      "\n",
      "Run model for 1 km² with growth rate :10 %\n",
      "harvesting at day  87\n",
      "days since last harvest:  87\n",
      "harvest_wet 3990.927778387033\n",
      "harvesting at day  112\n",
      "days since last harvest:  25\n",
      "harvest_wet 3933.8823773553577\n",
      "harvesting at day  137\n",
      "days since last harvest:  25\n",
      "harvest_wet 3933.8823773553577\n",
      "harvesting at day  162\n",
      "days since last harvest:  25\n",
      "harvest_wet 3933.8823773553577\n",
      "harvesting at day  187\n",
      "days since last harvest:  25\n",
      "harvest_wet 3933.8823773553577\n",
      "harvesting at day  212\n",
      "days since last harvest:  25\n",
      "harvest_wet 3933.8823773553577\n",
      "harvesting at day  237\n",
      "days since last harvest:  25\n",
      "harvest_wet 3933.8823773553577\n",
      "harvesting at day  262\n",
      "days since last harvest:  25\n",
      "harvest_wet 3933.8823773553577\n",
      "harvesting at day  287\n",
      "days since last harvest:  25\n",
      "harvest_wet 3933.8823773553577\n",
      "harvesting at day  312\n",
      "days since last harvest:  25\n",
      "harvest_wet 3933.8823773553577\n",
      "harvesting at day  337\n",
      "days since last harvest:  25\n",
      "harvest_wet 3933.8823773553577\n",
      "harvesting at day  362\n",
      "days since last harvest:  25\n",
      "harvest_wet 3933.8823773553577\n",
      "stable_harvest_intervall 25.0\n",
      "stable_harvest_for_food 3343.800020752054\n",
      "productivity_day_km2 133.75200083008215\n",
      "max_area 565033.7903805217\n",
      "\n",
      "Run full model with growth rate :10 %\n",
      "harvesting at day  87\n",
      "days since last harvest:  87\n",
      "harvest_wet 3990927.7783870306\n",
      "harvesting at day  112\n",
      "days since last harvest:  25\n",
      "harvest_wet 37296043.34783161\n",
      "harvesting at day  137\n",
      "days since last harvest:  25\n",
      "harvest_wet 349072319.6489538\n",
      "harvesting at day  162\n",
      "days since last harvest:  25\n",
      "harvest_wet 1498439007.391541\n",
      "harvesting at day  187\n",
      "days since last harvest:  25\n",
      "harvest_wet 1771158920.7152984\n",
      "harvesting at day  212\n",
      "days since last harvest:  25\n",
      "harvest_wet 2043878834.039055\n",
      "harvesting at day  237\n",
      "days since last harvest:  25\n",
      "harvest_wet 2222776470.588236\n",
      "harvesting at day  262\n",
      "days since last harvest:  25\n",
      "harvest_wet 2222776470.588236\n",
      "harvesting at day  287\n",
      "days since last harvest:  25\n",
      "harvest_wet 2222776470.588236\n",
      "harvesting at day  312\n",
      "days since last harvest:  25\n",
      "harvest_wet 2222776470.588236\n",
      "harvesting at day  337\n",
      "days since last harvest:  25\n",
      "harvest_wet 2222776470.588236\n",
      "harvesting at day  362\n",
      "days since last harvest:  25\n",
      "harvest_wet 2222776470.588236\n",
      "\n",
      "Run model for 1 km² with growth rate :15 %\n",
      "harvesting at day  59\n",
      "days since last harvest:  59\n",
      "harvest_wet 3983.9987456574036\n",
      "harvesting at day  76\n",
      "days since last harvest:  17\n",
      "harvest_wet 3904.505601826867\n",
      "harvesting at day  93\n",
      "days since last harvest:  17\n",
      "harvest_wet 3904.505601826867\n",
      "harvesting at day  110\n",
      "days since last harvest:  17\n",
      "harvest_wet 3904.505601826867\n",
      "harvesting at day  127\n",
      "days since last harvest:  17\n",
      "harvest_wet 3904.505601826867\n",
      "harvesting at day  144\n",
      "days since last harvest:  17\n",
      "harvest_wet 3904.505601826867\n",
      "harvesting at day  161\n",
      "days since last harvest:  17\n",
      "harvest_wet 3904.505601826867\n",
      "harvesting at day  178\n",
      "days since last harvest:  17\n",
      "harvest_wet 3904.505601826867\n",
      "harvesting at day  195\n",
      "days since last harvest:  17\n",
      "harvest_wet 3904.505601826867\n",
      "harvesting at day  212\n",
      "days since last harvest:  17\n",
      "harvest_wet 3904.505601826867\n",
      "harvesting at day  229\n",
      "days since last harvest:  17\n",
      "harvest_wet 3904.505601826867\n",
      "harvesting at day  246\n",
      "days since last harvest:  17\n",
      "harvest_wet 3904.505601826867\n",
      "harvesting at day  263\n",
      "days since last harvest:  17\n",
      "harvest_wet 3904.505601826867\n",
      "harvesting at day  280\n",
      "days since last harvest:  17\n",
      "harvest_wet 3904.505601826867\n",
      "harvesting at day  297\n",
      "days since last harvest:  17\n",
      "harvest_wet 3904.505601826867\n",
      "harvesting at day  314\n",
      "days since last harvest:  17\n",
      "harvest_wet 3904.505601826867\n",
      "harvesting at day  331\n",
      "days since last harvest:  17\n",
      "harvest_wet 3904.505601826867\n",
      "harvesting at day  348\n",
      "days since last harvest:  17\n",
      "harvest_wet 3904.505601826867\n",
      "stable_harvest_intervall 17.0\n",
      "stable_harvest_for_food 3318.8297615528368\n",
      "productivity_day_km2 195.22528009134334\n",
      "max_area 387113.799834938\n",
      "\n",
      "Run full model with growth rate :15 %\n",
      "harvesting at day  59\n",
      "days since last harvest:  59\n",
      "harvest_wet 3983998.745657403\n",
      "harvesting at day  76\n",
      "days since last harvest:  17\n",
      "harvest_wet 36960039.61951926\n",
      "harvesting at day  93\n",
      "days since last harvest:  17\n",
      "harvest_wet 343620238.3131006\n",
      "harvesting at day  110\n",
      "days since last harvest:  17\n",
      "harvest_wet 1010846538.1868802\n",
      "harvesting at day  127\n",
      "days since last harvest:  17\n",
      "harvest_wet 1194911210.8099544\n",
      "harvesting at day  144\n",
      "days since last harvest:  17\n",
      "harvest_wet 1378975883.4330287\n",
      "harvesting at day  161\n",
      "days since last harvest:  17\n",
      "harvest_wet 1511488000.0000002\n",
      "harvesting at day  178\n",
      "days since last harvest:  17\n",
      "harvest_wet 1511488000.0000002\n",
      "harvesting at day  195\n",
      "days since last harvest:  17\n",
      "harvest_wet 1511488000.0000002\n",
      "harvesting at day  212\n",
      "days since last harvest:  17\n",
      "harvest_wet 1511488000.0000002\n",
      "harvesting at day  229\n",
      "days since last harvest:  17\n",
      "harvest_wet 1511488000.0000002\n",
      "harvesting at day  246\n",
      "days since last harvest:  17\n",
      "harvest_wet 1511488000.0000002\n",
      "harvesting at day  263\n",
      "days since last harvest:  17\n",
      "harvest_wet 1511488000.0000002\n",
      "harvesting at day  280\n",
      "days since last harvest:  17\n",
      "harvest_wet 1511488000.0000002\n",
      "harvesting at day  297\n",
      "days since last harvest:  17\n",
      "harvest_wet 1511488000.0000002\n",
      "harvesting at day  314\n",
      "days since last harvest:  17\n",
      "harvest_wet 1511488000.0000002\n",
      "harvesting at day  331\n",
      "days since last harvest:  17\n",
      "harvest_wet 1511488000.0000002\n",
      "harvesting at day  348\n",
      "days since last harvest:  17\n",
      "harvest_wet 1511488000.0000002\n",
      "\n",
      "Run model for 1 km² with growth rate :25 %\n",
      "harvesting at day  37\n",
      "days since last harvest:  37\n",
      "harvest_wet 4414.824860968089\n",
      "harvesting at day  48\n",
      "days since last harvest:  11\n",
      "harvest_wet 4256.612873077393\n",
      "harvesting at day  59\n",
      "days since last harvest:  11\n",
      "harvest_wet 4256.612873077393\n",
      "harvesting at day  70\n",
      "days since last harvest:  11\n",
      "harvest_wet 4256.612873077393\n",
      "harvesting at day  81\n",
      "days since last harvest:  11\n",
      "harvest_wet 4256.612873077393\n",
      "harvesting at day  92\n",
      "days since last harvest:  11\n",
      "harvest_wet 4256.612873077393\n",
      "harvesting at day  103\n",
      "days since last harvest:  11\n",
      "harvest_wet 4256.612873077393\n",
      "harvesting at day  114\n",
      "days since last harvest:  11\n",
      "harvest_wet 4256.612873077393\n",
      "harvesting at day  125\n",
      "days since last harvest:  11\n",
      "harvest_wet 4256.612873077393\n",
      "harvesting at day  136\n",
      "days since last harvest:  11\n",
      "harvest_wet 4256.612873077393\n",
      "harvesting at day  147\n",
      "days since last harvest:  11\n",
      "harvest_wet 4256.612873077393\n",
      "harvesting at day  158\n",
      "days since last harvest:  11\n",
      "harvest_wet 4256.612873077393\n",
      "harvesting at day  169\n",
      "days since last harvest:  11\n",
      "harvest_wet 4256.612873077393\n",
      "harvesting at day  180\n",
      "days since last harvest:  11\n",
      "harvest_wet 4256.612873077393\n",
      "harvesting at day  191\n",
      "days since last harvest:  11\n",
      "harvest_wet 4256.612873077393\n",
      "harvesting at day  202\n",
      "days since last harvest:  11\n",
      "harvest_wet 4256.612873077393\n",
      "harvesting at day  213\n",
      "days since last harvest:  11\n",
      "harvest_wet 4256.612873077393\n",
      "harvesting at day  224\n",
      "days since last harvest:  11\n",
      "harvest_wet 4256.612873077393\n",
      "harvesting at day  235\n",
      "days since last harvest:  11\n",
      "harvest_wet 4256.612873077393\n",
      "harvesting at day  246\n",
      "days since last harvest:  11\n",
      "harvest_wet 4256.612873077393\n",
      "harvesting at day  257\n",
      "days since last harvest:  11\n",
      "harvest_wet 4256.612873077393\n",
      "harvesting at day  268\n",
      "days since last harvest:  11\n",
      "harvest_wet 4256.612873077393\n",
      "harvesting at day  279\n",
      "days since last harvest:  11\n",
      "harvest_wet 4256.612873077393\n",
      "harvesting at day  290\n",
      "days since last harvest:  11\n",
      "harvest_wet 4256.612873077393\n",
      "harvesting at day  301\n",
      "days since last harvest:  11\n",
      "harvest_wet 4256.612873077393\n",
      "harvesting at day  312\n",
      "days since last harvest:  11\n",
      "harvest_wet 4256.612873077393\n",
      "harvesting at day  323\n",
      "days since last harvest:  11\n",
      "harvest_wet 4256.612873077393\n",
      "harvesting at day  334\n",
      "days since last harvest:  11\n",
      "harvest_wet 4256.612873077393\n",
      "harvesting at day  345\n",
      "days since last harvest:  11\n",
      "harvest_wet 4256.612873077393\n",
      "harvesting at day  356\n",
      "days since last harvest:  11\n",
      "harvest_wet 4256.612873077393\n",
      "stable_harvest_intervall 11.0\n",
      "stable_harvest_for_food 3618.1209421157837\n",
      "productivity_day_km2 328.92008564688945\n",
      "max_area 229765.23264417646\n",
      "\n",
      "Run full model with growth rate :25 %\n",
      "harvesting at day  37\n",
      "days since last harvest:  37\n",
      "harvest_wet 4414824.860968089\n",
      "harvesting at day  48\n",
      "days since last harvest:  11\n",
      "harvest_wet 44190038.5861825\n",
      "harvesting at day  59\n",
      "days since last harvest:  11\n",
      "harvest_wet 443902298.69011116\n",
      "harvesting at day  70\n",
      "days since last harvest:  11\n",
      "harvest_wet 700677257.5610187\n",
      "harvesting at day  81\n",
      "days since last harvest:  11\n",
      "harvest_wet 830518394.7062281\n",
      "harvesting at day  92\n",
      "days since last harvest:  11\n",
      "harvest_wet 960359531.8514376\n",
      "harvesting at day  103\n",
      "days since last harvest:  11\n",
      "harvest_wet 978021647.0588236\n",
      "harvesting at day  114\n",
      "days since last harvest:  11\n",
      "harvest_wet 978021647.0588236\n",
      "harvesting at day  125\n",
      "days since last harvest:  11\n",
      "harvest_wet 978021647.0588236\n",
      "harvesting at day  136\n",
      "days since last harvest:  11\n",
      "harvest_wet 978021647.0588236\n",
      "harvesting at day  147\n",
      "days since last harvest:  11\n",
      "harvest_wet 978021647.0588236\n",
      "harvesting at day  158\n",
      "days since last harvest:  11\n",
      "harvest_wet 978021647.0588236\n",
      "harvesting at day  169\n",
      "days since last harvest:  11\n",
      "harvest_wet 978021647.0588236\n",
      "harvesting at day  180\n",
      "days since last harvest:  11\n",
      "harvest_wet 978021647.0588236\n",
      "harvesting at day  191\n",
      "days since last harvest:  11\n",
      "harvest_wet 978021647.0588236\n",
      "harvesting at day  202\n",
      "days since last harvest:  11\n",
      "harvest_wet 978021647.0588236\n",
      "harvesting at day  213\n",
      "days since last harvest:  11\n",
      "harvest_wet 978021647.0588236\n",
      "harvesting at day  224\n",
      "days since last harvest:  11\n",
      "harvest_wet 978021647.0588236\n",
      "harvesting at day  235\n",
      "days since last harvest:  11\n",
      "harvest_wet 978021647.0588236\n",
      "harvesting at day  246\n",
      "days since last harvest:  11\n",
      "harvest_wet 978021647.0588236\n",
      "harvesting at day  257\n",
      "days since last harvest:  11\n",
      "harvest_wet 978021647.0588236\n",
      "harvesting at day  268\n",
      "days since last harvest:  11\n",
      "harvest_wet 978021647.0588236\n",
      "harvesting at day  279\n",
      "days since last harvest:  11\n",
      "harvest_wet 978021647.0588236\n",
      "harvesting at day  290\n",
      "days since last harvest:  11\n",
      "harvest_wet 978021647.0588236\n",
      "harvesting at day  301\n",
      "days since last harvest:  11\n",
      "harvest_wet 978021647.0588236\n",
      "harvesting at day  312\n",
      "days since last harvest:  11\n",
      "harvest_wet 978021647.0588236\n",
      "harvesting at day  323\n",
      "days since last harvest:  11\n",
      "harvest_wet 978021647.0588236\n",
      "harvesting at day  334\n",
      "days since last harvest:  11\n",
      "harvest_wet 978021647.0588236\n",
      "harvesting at day  345\n",
      "days since last harvest:  11\n",
      "harvest_wet 978021647.0588236\n",
      "harvesting at day  356\n",
      "days since last harvest:  11\n",
      "harvest_wet 978021647.0588236\n"
     ]
    }
   ],
   "source": [
    "# How much of the total calories should be from seaweed? (in %)\n",
    "calories_from_seaweed = 160 # %\n",
    "daily_calories_needed = global_food_demand_in_catastrophe * (calories_from_seaweed/100)\n",
    "seaweed_needed = (daily_calories_needed / calories_per_wet_weight) # [T/day]\tAron result\n",
    "# For what growth_rates should be model run? (in %)\n",
    "growth_rates = [5,10,15, 25] # %\n",
    "growth_rate_results = {}\n",
    "# How long should it run?\n",
    "days_to_run = 365\n",
    "# let it run for all growth rates\n",
    "for growth_rate in growth_rates:\n",
    "  # convert to fraction\n",
    "  growth_rate_frac = (100 + growth_rate) / 100\n",
    "  # determine productivity in t per day per km²\n",
    "  print(\"\\nRun model for 1 km² with growth rate :\"+str(growth_rate)+ \" %\")\n",
    "  productivity_day_km2 = determine_productivity(growth_rate_frac, harvest_loss,\n",
    "                                                min_density, max_density, percent_usable_for_growth, days_to_run)\n",
    "  # calculate how much area we need to satisfy the daily seaweed need with the given productivity\n",
    "  max_area = seaweed_needed / productivity_day_km2\n",
    "  print(\"max_area\",max_area) \n",
    "  # run the actual model\n",
    "  print(\"\\nRun full model with growth rate :\"+str(growth_rate)+ \" %\")\n",
    "  df = seaweed_growth(harvest_loss, initial_seaweed, initial_area_built, \n",
    "                initial_area_used, new_module_area_per_day,\n",
    "                min_density, max_density, max_area, growth_rate_frac, \n",
    "                initial_lag, percent_usable_for_growth, days_to_run)\n",
    "  # Save results\n",
    "  growth_rate_results[str(growth_rate)] = (df, max_area)"
   ]
  },
  {
   "cell_type": "markdown",
   "metadata": {
    "id": "xxACC00WrZtB"
   },
   "source": [
    "# Labor Model"
   ]
  },
  {
   "cell_type": "code",
   "execution_count": null,
   "metadata": {
    "id": "bBSg-e9krch-"
   },
   "outputs": [],
   "source": [
    "labor_results = {}\n",
    "for growth_rate, results in growth_rate_results.items(): \n",
    "  df = results[0]\n",
    "  labor_df = pd.DataFrame(index=range(days_to_run))\n",
    "  # Calculate labor needed to build ships\n",
    "\n",
    "  # Calculate labor needed to create longlines and seedling lines\n",
    "  # hier noch eine simple faustformel\n",
    "\n",
    "  # Calculate labor needed to create initial seedlines\n",
    "  ## Calculate how much time one persons needs to create 1 m of seedline\n",
    "  ## World bank paper states following\n",
    "  seedling_jobs = 25 # people\n",
    "  seedling_duration = 365 # days\n",
    "  seedling_line_created = 10000000 # m\n",
    "  seedling_work_week = 40 # hours per person (assumed)\n",
    "  total_seedling_work_hours = seedling_work_week * seedling_jobs * seedling_duration\n",
    "  time_per_seedling_m = total_seedling_work_hours / seedling_line_created\n",
    "  ## Multiply by the amount of seedlines needed \n",
    "  labor_df[\"total_seedline_spawning_hours\"] = df[\"new_module_area_per_day\"] * length_seedling_line_per_area * 1000 * time_per_seedling_m # hours # is this calculation correct? # do we even need it?\n",
    "\n",
    "  # Calculate labor needed to install longlines\n",
    "  hours_per_longline_installation = 0.5 # wild assumption\n",
    "  longline_installation_hours_per_km2 = longline_per_area * hours_per_longline_installation\n",
    "  labor_df[\"total_longline_installation_hours\"] = df[\"new_module_area_per_day\"] * longline_installation_hours_per_km2\n",
    "\n",
    "  # Calculate labor needed for initial saturation of longlines with seedling lines\n",
    "  ## World bank paper states following\n",
    "  hours_per_longline_saturation = 4\n",
    "  ## Calculate demand\n",
    "  longline_saturation_hours_per_km2 = longline_per_area * hours_per_longline_saturation\n",
    "\n",
    "  temp_df = growth_rate_results[growth_rate][0].loc[:,[\"new_area_used\", \"harvest_intervall\"]]\n",
    "  ## backfill to calulcate averages\n",
    "  temp_df[\"new_area_used\"].interpolate('zero', fill_value=0, limit_direction='backward', inplace=True)\n",
    "  temp_df[\"harvest_intervall\"].fillna(method=\"backfill\", inplace=True)\n",
    "  temp_df.fillna(method=\"ffill\", inplace=True)\n",
    "  temp_df[\"mean_daily_new_area\"] = temp_df[\"new_area_used\"] / temp_df[\"harvest_intervall\"]\n",
    "  labor_df[\"total_longline_saturation_hours\"] = temp_df[\"mean_daily_new_area\"] * longline_saturation_hours_per_km2\n",
    "\n",
    "  # Calculate labor needed for harvesting (no time needed for resaturation, as just a part of the seaweed is left on the line)\n",
    "  ## World bank paper states following\n",
    "  ## two people can harvest 10 wet tons in one hour\n",
    "  tons_harvested_per_hour = 10 / 2\n",
    "  temp_df = growth_rate_results[growth_rate][0].loc[:,[\"harvest_wet\", \"harvest_intervall\"]]\n",
    "  ## backfill to calulcate averages\n",
    "  temp_df[\"harvest_wet\"].interpolate('zero', fill_value=0, limit_direction='backward', inplace=True)\n",
    "  temp_df[\"harvest_intervall\"].fillna(method=\"backfill\", inplace=True)\n",
    "  temp_df.fillna(method=\"ffill\", inplace=True)\n",
    "  temp_df[\"mean_daily_harvest\"] = temp_df[\"harvest_wet\"] / temp_df[\"harvest_intervall\"]\n",
    "  ## calculate total\n",
    "  labor_df[\"total_harvest_hours\"] = temp_df[\"mean_daily_harvest\"] * tons_harvested_per_hour \n",
    "\n",
    "  # Calculate maintenance\n",
    "  # max_area = growth_rate_results[growth_rate][1]\n",
    "  # multiply with max area or used area?\n",
    "  ## this calculation simulates the need to replenish the seaweed every three years\n",
    "  ## and the losses suffered by storms and other events\n",
    "  labor_df[\"daily_maintenance_hours\"] = (longline_saturation_hours_per_km2 * df[\"current_area_used\"]) / 365\n",
    "\n",
    "  # save\n",
    "  labor_results[growth_rate] = labor_df"
   ]
  },
  {
   "cell_type": "markdown",
   "metadata": {
    "id": "v14LKaHPVwck"
   },
   "source": [
    "# Plotting "
   ]
  },
  {
   "cell_type": "markdown",
   "metadata": {
    "id": "XlUAmNdng-eF"
   },
   "source": [
    "Some extra code that makes the plots look nicer"
   ]
  },
  {
   "cell_type": "code",
   "execution_count": null,
   "metadata": {
    "id": "IziLrX4rg-yY"
   },
   "outputs": [],
   "source": [
    "def plot_nicer(ax, with_legend=True):\n",
    "  \"\"\"Takes an axis objects and makes it look nicer\"\"\"\n",
    "  alpha=0.7\n",
    "  # Remove borders\n",
    "  for spine in ax.spines.values():\n",
    "    spine.set_visible(False)\n",
    "  # Make text grey\n",
    "  plt.setp(ax.get_yticklabels(), alpha=alpha)\n",
    "  plt.setp(ax.get_xticklabels(), alpha=alpha)\n",
    "  ax.set_xlabel(ax.get_xlabel(), alpha=alpha)\n",
    "  ax.set_ylabel(ax.get_ylabel(), alpha=alpha)\n",
    "  ax.set_title(ax.get_title(), alpha=alpha)\n",
    "  ax.tick_params(axis=u'both', which=u'both',length=0)\n",
    "  if with_legend:\n",
    "    legend = ax.get_legend()\n",
    "    for text in legend.get_texts():\n",
    "      text.set_color(\"#676767\")\n",
    "    legend.get_title().set_color(\"#676767\")\n",
    "  ax.yaxis.get_offset_text().set_color(\"#676767\")\n",
    "  # Add a grid\n",
    "  ax.grid(True, color=\"lightgrey\", zorder=0)\n"
   ]
  },
  {
   "cell_type": "markdown",
   "metadata": {
    "id": "LIWhyN2eF9pK"
   },
   "source": [
    "Plot by how much seaweed helps feed humanity\n"
   ]
  },
  {
   "cell_type": "code",
   "execution_count": null,
   "metadata": {
    "colab": {
     "base_uri": "https://localhost:8080/",
     "height": 470
    },
    "id": "t8ApQR5uVxpp",
    "outputId": "c75906c9-53fc-44c9-aac0-22118ab37415"
   },
   "outputs": [
    {
     "data": {
      "image/png": "[encoded data removed]",
      "text/plain": [
       "<Figure size 864x504 with 1 Axes>"
      ]
     },
     "metadata": {
      "needs_background": "light",
      "tags": []
     },
     "output_type": "display_data"
    }
   ],
   "source": [
    "import matplotlib.pyplot as plt\n",
    "counter=0\n",
    "satisfied_need_df = pd.DataFrame()\n",
    "# Iterate over all growth rate results and plot them\n",
    "for growth_rate, results in growth_rate_results.items(): \n",
    "  df = results[0]\n",
    "  food = df.loc[:,[\"harvest_for_food\", \"harvest_intervall\"]]\n",
    "  # backfill to calulcate averages\n",
    "  food[\"harvest_for_food\"].interpolate('zero', fill_value=0, limit_direction='backward', inplace=True)\n",
    "  food[\"harvest_intervall\"].fillna(method=\"backfill\", inplace=True)\n",
    "  food.fillna(method=\"ffill\", inplace=True)\n",
    "  # Calculate the food needed\n",
    "  food[\"mean_daily_harvest\"] = food[\"harvest_for_food\"] / food[\"harvest_intervall\"]\n",
    "  food[\"daily_need\"] = seaweed_needed\n",
    "  food[\"daily_need_satisfied\"] = (food[\"mean_daily_harvest\"]/food[\"daily_need\"])*100\n",
    "  satisfied_need_df[growth_rate] = food[\"daily_need_satisfied\"]\n",
    "  counter += 1\n",
    "\n",
    "ax = satisfied_need_df.plot()\n",
    "legend = ax.legend()\n",
    "legend.set_title(\"Growth Rate [%]\")\n",
    "ax.set_xlabel(\"Days since start\")\n",
    "ax.set_ylabel(\"% need satisfied\")\n",
    "ax.set_title(\"Calorie need satisfaction by growth rate\\nScenario: \"+str(calories_from_seaweed) + \" % of global calories from seaweed\")\n",
    "fig = plt.gcf()\n",
    "fig.set_size_inches(12,7)\n",
    "plot_nicer(ax)\n",
    "plt.savefig(\"food_satis.png\",dpi=200)"
   ]
  },
  {
   "cell_type": "markdown",
   "metadata": {
    "id": "Hn2IOKz9ql93"
   },
   "source": [
    "Alternative Plot for food satisfaction"
   ]
  },
  {
   "cell_type": "code",
   "execution_count": null,
   "metadata": {
    "colab": {
     "base_uri": "https://localhost:8080/",
     "height": 361
    },
    "id": "umkJtiG6qq0n",
    "outputId": "e8ccfe92-6ad9-4f95-aea2-0288c6c0cb8b"
   },
   "outputs": [
    {
     "data": {
      "image/png": "[encoded data removed]",
      "text/plain": [
       "<Figure size 864x360 with 1 Axes>"
      ]
     },
     "metadata": {
      "needs_background": "light",
      "tags": []
     },
     "output_type": "display_data"
    }
   ],
   "source": [
    "import matplotlib.pyplot as plt\n",
    "counter=0\n",
    "satisfied_need_df = pd.DataFrame()\n",
    "# Iterate over all growth rate results and plot them\n",
    "for growth_rate, results in growth_rate_results.items(): \n",
    "  df = results[0]\n",
    "  food = df.loc[:,[\"harvest_for_food\", \"harvest_intervall\"]]\n",
    "  # backfill to calulcate averages\n",
    "  food[\"harvest_for_food\"].interpolate('zero', fill_value=0, limit_direction='backward', inplace=True)\n",
    "  food[\"harvest_intervall\"].fillna(method=\"backfill\", inplace=True)\n",
    "  food.fillna(method=\"ffill\", inplace=True)\n",
    "  # Calculate the food needed\n",
    "  food[\"mean_daily_calories\"] = food[\"harvest_for_food\"] / food[\"harvest_intervall\"] * calories_per_wet_weight\n",
    "  food[\"daily_need\"] = global_food_demand_in_catastrophe\n",
    "  food[\"daily_need_satisfied\"] = (food[\"mean_daily_calories\"]/food[\"daily_need\"])*100\n",
    "  satisfied_need_df[growth_rate] = food[\"daily_need_satisfied\"]\n",
    "  counter += 1\n",
    "\n",
    "ax = satisfied_need_df.plot()\n",
    "ax.hlines(y=20, label=\"Iodine Limit\", xmin=0, xmax=days_to_run, linestyles=\":\") # set the iodine limit to 20 % of calories, correct?\n",
    "legend = ax.legend()\n",
    "legend.set_title(\"Growth Rate [%]\")\n",
    "ax.set_xlabel(\"Days since start\")\n",
    "ax.set_ylabel(\"% need satisfied\")\n",
    "ax.set_title(\"Calorie need satisfaction by growth rate\\nScenario: \"+str(calories_from_seaweed) + \" % of global calories from seaweed\")\n",
    "fig = plt.gcf()\n",
    "fig.set_size_inches(12,5)\n",
    "plot_nicer(ax)\n"
   ]
  },
  {
   "cell_type": "markdown",
   "metadata": {
    "id": "ImK3YJJLulp2"
   },
   "source": [
    "Plot Labor demands"
   ]
  },
  {
   "cell_type": "code",
   "execution_count": null,
   "metadata": {
    "colab": {
     "base_uri": "https://localhost:8080/",
     "height": 618
    },
    "id": "9r5I1ALBup0z",
    "outputId": "7088210d-61b5-45d4-d60e-909fd71303a0"
   },
   "outputs": [
    {
     "data": {
      "image/png": "[encoded data removed]",
      "text/plain": [
       "<Figure size 864x720 with 4 Axes>"
      ]
     },
     "metadata": {
      "needs_background": "light",
      "tags": []
     },
     "output_type": "display_data"
    }
   ],
   "source": [
    "import matplotlib.pyplot as plt\n",
    "# Some formatting stuff to get the subplots right\n",
    "number_of_growth_rates = len(list(labor_results.keys()))\n",
    "fig, axes = plt.subplots(nrows=number_of_growth_rates, sharex=True, sharey=True)\n",
    "fig.set_size_inches(12,10)\n",
    "axes = axes.flatten()\n",
    "counter=0\n",
    "satisfied_need_df = pd.DataFrame()\n",
    "# Iterate over all growth rate results and plot them\n",
    "for growth_rate, results in labor_results.items(): \n",
    "  labor_df = results\n",
    "  labor_df[\"total_work_hours_all_jobs\"] = labor_df.sum(axis=1)\n",
    "  ax = axes[counter]\n",
    "  labor_df.plot(ax=ax)\n",
    "  ax.set_xlabel(\"days since start\")\n",
    "  ax.set_ylabel(\"work_hours (per day)\")\n",
    "  ax.set_title(\"Growth rate: \" + str(growth_rate) +\" %\")\n",
    "  plot_nicer(ax)\n",
    "  counter += 1"
   ]
  },
  {
   "cell_type": "code",
   "execution_count": null,
   "metadata": {
    "colab": {
     "base_uri": "https://localhost:8080/",
     "height": 361
    },
    "id": "bHIkQLgxgjcl",
    "outputId": "c10ca087-88ee-4c48-af3f-66261ed11752"
   },
   "outputs": [
    {
     "data": {
      "image/png": "[encoded data removed]",
      "text/plain": [
       "<Figure size 864x360 with 1 Axes>"
      ]
     },
     "metadata": {
      "needs_background": "light",
      "tags": []
     },
     "output_type": "display_data"
    }
   ],
   "source": [
    "labor_by_growth_rate_df = pd.DataFrame(index=range(days_to_run))\n",
    "for growth_rate, results in labor_results.items(): \n",
    "  labor_df = results\n",
    "  labor_by_growth_rate_df[growth_rate] = labor_df.sum(axis=1)\n",
    "ax = labor_by_growth_rate_df.plot()\n",
    "legend = ax.legend()\n",
    "legend.set_title(\"Growth Rate [%]\")\n",
    "ax.set_xlabel(\"Days since start\")\n",
    "ax.set_ylabel(\"Daily working hours\")\n",
    "ax.set_title(\"Global working hours by growth rate\\nScenario: \"+str(calories_from_seaweed) + \" % of global calories from seaweed\")\n",
    "fig = plt.gcf()\n",
    "fig.set_size_inches(12,5)\n",
    "plot_nicer(ax)\n",
    "plt.savefig(\"working_hours.png\", dpi=200)"
   ]
  },
  {
   "cell_type": "markdown",
   "metadata": {
    "id": "T6dTlFMCaYoI"
   },
   "source": [
    "Plot Area needed for different growth rates"
   ]
  },
  {
   "cell_type": "code",
   "execution_count": null,
   "metadata": {
    "colab": {
     "base_uri": "https://localhost:8080/",
     "height": 416
    },
    "id": "SV4s5ZnYabrs",
    "outputId": "193c0376-848f-4188-f219-c045207b0bbd"
   },
   "outputs": [
    {
     "data": {
      "image/png": "[encoded data removed]",
      "text/plain": [
       "<Figure size 936x432 with 1 Axes>"
      ]
     },
     "metadata": {
      "needs_background": "light",
      "tags": []
     },
     "output_type": "display_data"
    }
   ],
   "source": [
    "growth_area_df = pd.DataFrame(columns=[\"area\"])\n",
    "for growth_rate in growth_rate_results.keys(): \n",
    "  growth_area_df.loc[growth_rate, \"area\"] = growth_rate_results[growth_rate][1]\n",
    "ax = growth_area_df.plot(kind=\"bar\", legend=False, zorder=5)\n",
    "ax.set_ylabel(\"Area [million km²]\")\n",
    "ax.set_xlabel(\"Growth Rate [%]\")\n",
    "ax.set_title(\"Area needed for different growth rates\\nScenario: \"+str(calories_from_seaweed) + \" % of global calories from seaweed\")\n",
    "plot_nicer(ax, with_legend=False)\n",
    "for tick in ax.get_xticklabels():\n",
    "  tick.set_rotation(360)\n",
    "ax.xaxis.grid(False)\n",
    "ax.yaxis.get_offset_text().set_color(\"white\")\n",
    "\n",
    "fig = plt.gcf()\n",
    "fig.set_size_inches(13,6)\n",
    "plt.savefig(\"area.png\", dpi=200)"
   ]
  },
  {
   "cell_type": "markdown",
   "metadata": {
    "id": "1GhTZ2Cy8wC2"
   },
   "source": [
    "Plot seaweed production and harvest\n",
    "\n",
    "\n",
    "\n",
    "\n"
   ]
  },
  {
   "cell_type": "code",
   "execution_count": null,
   "metadata": {
    "id": "qkzHVkppV3Pq"
   },
   "outputs": [],
   "source": [
    "import matplotlib.pyplot as plt\n",
    "# Some formatting stuff to get the subplots right\n",
    "number_of_growth_rates = len(list(growth_rate_results.keys()))\n",
    "fig, axes = plt.subplots(nrows=number_of_growth_rates, sharex=True, sharey=True)\n",
    "fig.set_size_inches(12,10)\n",
    "axes = axes.flatten()\n",
    "counter=0\n",
    "# Iterate over all growth rate results and plot them\n",
    "for growth_rate, results in growth_rate_results.items(): \n",
    "  df = results[0]\n",
    "  stable_harvest_intervall = df.loc[df[\"harvest_intervall\"].last_valid_index(),\"harvest_intervall\"]\n",
    "  max_area = results[1]\n",
    "  ax = axes[counter]\n",
    "  df[\"seaweed_needed_to_plant_whole_area\"] = df[\"current_area_built\"] * min_density  * (percent_usable_for_growth/100)\n",
    "  ax = df[[\"cumulative_harvest_for_food\", \"seaweed_needed_to_plant_whole_area\", \"current_seaweed\"]].plot(ax=ax)\n",
    "  ax.set_ylabel(\"Amount [t]\")\n",
    "  ax.set_xlabel(\"Days since start\")\n",
    "  ax.set_title(\"Growth rate: \" + str(growth_rate) + \" [%], max area: \" + str(int(max_area)) + \" km², harvest intervall: \" + str(int(stable_harvest_intervall))+ \" [days]\\nScenario: \"+str(calories_from_seaweed) + \" % of global calories from seaweed\")\n",
    "  counter += 1\n",
    "  plot_nicer(ax)\n",
    "\n"
   ]
  },
  {
   "cell_type": "code",
   "execution_count": null,
   "metadata": {
    "id": "SASxl5UocvYv"
   },
   "outputs": [],
   "source": [
    "# Access this csv by clicking on the folder symbole on the left\n",
    "df.to_csv(\"results_seaweed_model.csv\")"
   ]
  }
 ],
 "metadata": {
  "colab": {
   "collapsed_sections": [],
   "name": "Seaweed Model.ipynb",
   "provenance": [],
   "toc_visible": true
  },
  "kernelspec": {
   "display_name": "Python 3 (ipykernel)",
   "language": "python",
   "name": "python3"
  },
  "language_info": {
   "codemirror_mode": {
    "name": "ipython",
    "version": 3
   },
   "file_extension": ".py",
   "mimetype": "text/x-python",
   "name": "python",
   "nbconvert_exporter": "python",
   "pygments_lexer": "ipython3",
   "version": "3.9.7"
  }
 },
 "nbformat": 4,
 "nbformat_minor": 1
}
